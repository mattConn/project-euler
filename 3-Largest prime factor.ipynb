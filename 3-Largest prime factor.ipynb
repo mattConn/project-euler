{
 "cells": [
  {
   "cell_type": "markdown",
   "metadata": {},
   "source": [
    "The prime factors of 13195 are 5, 7, 13 and 29.\n",
    "\n",
    "What is the largest prime factor of the number 600851475143 ?"
   ]
  },
  {
   "cell_type": "code",
   "execution_count": 96,
   "metadata": {},
   "outputs": [
    {
     "data": {
      "text/plain": [
       "6857"
      ]
     },
     "execution_count": 96,
     "metadata": {},
     "output_type": "execute_result"
    }
   ],
   "source": [
    "# factor number n\n",
    "def getFactors(n):\n",
    "    factors = []\n",
    "    divisor = 2\n",
    "    \n",
    "    while n > 1:\n",
    "        if n % divisor == 0: # even divisibility test\n",
    "            factors.append(divisor)\n",
    "            factors.append(n//divisor)\n",
    "            n //= divisor\n",
    "\n",
    "        divisor += 1 # advance divisor\n",
    "    \n",
    "    factors = list(set(factors))\n",
    "    factors.sort()\n",
    "    \n",
    "    return factors # remove dupes\n",
    "\n",
    "# get prime factors in list l\n",
    "def getPrimeFactors(l):\n",
    "    factors = []\n",
    "    \n",
    "    for n in l:\n",
    "        if len(getFactors(n)) == 2: # factors should be 1 and n\n",
    "            factors.append(n)\n",
    "            \n",
    "    factors = list(set(factors))\n",
    "    factors.sort()\n",
    "    return factors\n",
    "\n",
    "getPrimeFactors(getFactors(600851475143))[-1] # last in list"
   ]
  },
  {
   "cell_type": "code",
   "execution_count": null,
   "metadata": {},
   "outputs": [],
   "source": []
  }
 ],
 "metadata": {
  "kernelspec": {
   "display_name": "Python 3",
   "language": "python",
   "name": "python3"
  },
  "language_info": {
   "codemirror_mode": {
    "name": "ipython",
    "version": 3
   },
   "file_extension": ".py",
   "mimetype": "text/x-python",
   "name": "python",
   "nbconvert_exporter": "python",
   "pygments_lexer": "ipython3",
   "version": "3.6.4"
  }
 },
 "nbformat": 4,
 "nbformat_minor": 2
}
