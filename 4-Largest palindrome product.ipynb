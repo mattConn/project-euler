{
 "cells": [
  {
   "cell_type": "markdown",
   "metadata": {},
   "source": [
    "A palindromic number reads the same both ways. The largest palindrome made from the product of two 2-digit numbers is 9009 = 91 × 99.\n",
    "\n",
    "Find the largest palindrome made from the product of two 3-digit numbers."
   ]
  },
  {
   "cell_type": "code",
   "execution_count": 205,
   "metadata": {},
   "outputs": [
    {
     "data": {
      "text/plain": [
       "906609"
      ]
     },
     "execution_count": 205,
     "metadata": {},
     "output_type": "execute_result"
    }
   ],
   "source": [
    "import math\n",
    "\n",
    "# reverse integer\n",
    "def reverseInt(n):\n",
    "    magnitude = int(math.log(n,10))\n",
    "    \n",
    "    result = 0\n",
    "    \n",
    "    while magnitude >= 0:\n",
    "        result += (n % 10) * 10**magnitude\n",
    "        magnitude -= 1\n",
    "        n //= 10\n",
    "    \n",
    "    return result\n",
    "\n",
    "# palindrome checker\n",
    "def isPalindrome(n):\n",
    "    if reverseInt(n) == n:\n",
    "        return True\n",
    "    \n",
    "    return False\n",
    "\n",
    "largestPalindrome = 0\n",
    "\n",
    "for i in range(1000, 100, -1):\n",
    "    for j in range(1000, 100, -1):\n",
    "        if isPalindrome(i * j) and i * j > largestPalindrome:\n",
    "            largestPalindrome = i*j\n",
    "\n",
    "largestPalindrome"
   ]
  },
  {
   "cell_type": "code",
   "execution_count": null,
   "metadata": {},
   "outputs": [],
   "source": []
  }
 ],
 "metadata": {
  "kernelspec": {
   "display_name": "Python 3",
   "language": "python",
   "name": "python3"
  },
  "language_info": {
   "codemirror_mode": {
    "name": "ipython",
    "version": 3
   },
   "file_extension": ".py",
   "mimetype": "text/x-python",
   "name": "python",
   "nbconvert_exporter": "python",
   "pygments_lexer": "ipython3",
   "version": "3.6.4"
  }
 },
 "nbformat": 4,
 "nbformat_minor": 2
}
