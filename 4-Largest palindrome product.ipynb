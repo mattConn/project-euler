{
 "cells": [
  {
   "cell_type": "markdown",
   "metadata": {},
   "source": [
    "A palindromic number reads the same both ways. The largest palindrome made from the product of two 2-digit numbers is 9009 = 91 × 99.\n",
    "\n",
    "Find the largest palindrome made from the product of two 3-digit numbers."
   ]
  },
  {
   "cell_type": "code",
   "execution_count": 128,
   "metadata": {},
   "outputs": [
    {
     "data": {
      "text/plain": [
       "906609"
      ]
     },
     "execution_count": 128,
     "metadata": {},
     "output_type": "execute_result"
    }
   ],
   "source": [
    "# palindrome checker\n",
    "def isPalindrome(n):\n",
    "    # reverse n\n",
    "    r = list(str(n)) # list from string\n",
    "    r.reverse() # reverse\n",
    "    r = ''.join(r) # cast back to a string\n",
    "    \n",
    "    if str(n) == r: # compare strings\n",
    "        return True\n",
    "    \n",
    "    return False\n",
    "\n",
    "palindrome = 0\n",
    "\n",
    "for i in range(1000, 100, -1):\n",
    "    for j in range(1000, 100, -1):\n",
    "        if isPalindrome(i * j) and i * j > palindrome:\n",
    "            palindrome = i*j\n",
    "\n",
    "palindrome"
   ]
  },
  {
   "cell_type": "code",
   "execution_count": null,
   "metadata": {},
   "outputs": [],
   "source": []
  }
 ],
 "metadata": {
  "kernelspec": {
   "display_name": "Python 3",
   "language": "python",
   "name": "python3"
  },
  "language_info": {
   "codemirror_mode": {
    "name": "ipython",
    "version": 3
   },
   "file_extension": ".py",
   "mimetype": "text/x-python",
   "name": "python",
   "nbconvert_exporter": "python",
   "pygments_lexer": "ipython3",
   "version": "3.6.4"
  }
 },
 "nbformat": 4,
 "nbformat_minor": 2
}
