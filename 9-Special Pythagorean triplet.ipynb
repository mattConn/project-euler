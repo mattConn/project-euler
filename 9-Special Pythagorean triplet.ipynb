{
 "cells": [
  {
   "cell_type": "markdown",
   "metadata": {},
   "source": [
    "A Pythagorean triplet is a set of three natural numbers, a < b < c, for which,\n",
    "\n",
    "$$ a^2 + b^2 = c^2 $$\n",
    "For example, $3^2 + 4^2 = 9 + 16 = 25 = 5^2$.\n",
    "\n",
    "There exists exactly one Pythagorean triplet for which a + b + c = 1000.\n",
    "Find the product abc."
   ]
  },
  {
   "cell_type": "code",
   "execution_count": 20,
   "metadata": {},
   "outputs": [
    {
     "name": "stdout",
     "output_type": "stream",
     "text": [
      "1\n",
      "10\n",
      "100\n",
      "1000\n",
      "10000\n",
      "100000\n",
      "1000000\n",
      "10000000\n",
      "100000000\n",
      "triplets checked: 198976250\n",
      "triplet: 200,375,425\n"
     ]
    },
    {
     "data": {
      "text/plain": [
       "31875000"
      ]
     },
     "execution_count": 20,
     "metadata": {},
     "output_type": "execute_result"
    }
   ],
   "source": [
    "import math\n",
    "max = 1000\n",
    "\n",
    "def f():\n",
    "    # count triplets checked\n",
    "    count = 0\n",
    "    \n",
    "    for a in range(1,max):\n",
    "\n",
    "        for b in range(1,max):\n",
    "            for c in range(1,max):\n",
    "\n",
    "                count += 1\n",
    "                \n",
    "                if int(math.log10(count)) == math.log10(count):\n",
    "                    print(count)\n",
    "                \n",
    "                if a**2 + b**2 == c**2 and sum([a,b,c]) == 1000:\n",
    "                    print(f'triplets checked: {count}')\n",
    "                    print(f'triplet: {a},{b},{c}')\n",
    "                    return [a,b,c]\n",
    "\n",
    "product = 1\n",
    "for i in f():\n",
    "    product *= i\n",
    "\n",
    "product"
   ]
  },
  {
   "cell_type": "code",
   "execution_count": null,
   "metadata": {},
   "outputs": [],
   "source": []
  }
 ],
 "metadata": {
  "kernelspec": {
   "display_name": "Python 3",
   "language": "python",
   "name": "python3"
  },
  "language_info": {
   "codemirror_mode": {
    "name": "ipython",
    "version": 3
   },
   "file_extension": ".py",
   "mimetype": "text/x-python",
   "name": "python",
   "nbconvert_exporter": "python",
   "pygments_lexer": "ipython3",
   "version": "3.6.4"
  }
 },
 "nbformat": 4,
 "nbformat_minor": 2
}
