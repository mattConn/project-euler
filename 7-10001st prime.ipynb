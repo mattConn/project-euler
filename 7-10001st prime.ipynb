{
 "cells": [
  {
   "cell_type": "markdown",
   "metadata": {},
   "source": [
    "By listing the first six prime numbers: 2, 3, 5, 7, 11, and 13, we can see that the 6th prime is 13.\n",
    "\n",
    "What is the 10 001st prime number?"
   ]
  },
  {
   "cell_type": "code",
   "execution_count": 39,
   "metadata": {},
   "outputs": [],
   "source": [
    "import math\n",
    "\n",
    "# factor number n\n",
    "def getFactors(n):\n",
    "    factors = []\n",
    "    divisor = 2\n",
    "    \n",
    "    while n > 1 and n >= divisor:\n",
    "        if n % divisor == 0: # even divisibility test\n",
    "            factors.append(divisor)\n",
    "            factors.append(n//divisor)\n",
    "            n //= divisor\n",
    "\n",
    "        divisor += 1 # advance divisor\n",
    "    \n",
    "    factors = list(set(factors))\n",
    "    factors.sort()\n",
    "    \n",
    "    return factors # remove dupes"
   ]
  },
  {
   "cell_type": "code",
   "execution_count": 47,
   "metadata": {},
   "outputs": [
    {
     "name": "stdout",
     "output_type": "stream",
     "text": [
      "1\n",
      "10\n",
      "100\n",
      "1000\n",
      "10000\n",
      "100000\n"
     ]
    },
    {
     "data": {
      "text/plain": [
       "(10001, 104743)"
      ]
     },
     "execution_count": 47,
     "metadata": {},
     "output_type": "execute_result"
    }
   ],
   "source": [
    "count = prime = 0\n",
    "n = 1\n",
    "\n",
    "while count < int(1e4) + 1:\n",
    "    if len(getFactors(n)) == 2: # factors should be 1 and n\n",
    "        count += 1\n",
    "        prime = n\n",
    "\n",
    "    if int(math.log10(n)) == math.log10(n):\n",
    "        print(n)\n",
    "    n += 1\n",
    "\n",
    "count, prime"
   ]
  },
  {
   "cell_type": "code",
   "execution_count": null,
   "metadata": {},
   "outputs": [],
   "source": []
  }
 ],
 "metadata": {
  "kernelspec": {
   "display_name": "Python 3",
   "language": "python",
   "name": "python3"
  },
  "language_info": {
   "codemirror_mode": {
    "name": "ipython",
    "version": 3
   },
   "file_extension": ".py",
   "mimetype": "text/x-python",
   "name": "python",
   "nbconvert_exporter": "python",
   "pygments_lexer": "ipython3",
   "version": "3.6.4"
  }
 },
 "nbformat": 4,
 "nbformat_minor": 2
}
